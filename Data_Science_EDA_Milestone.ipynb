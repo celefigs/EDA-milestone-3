{
 "cells": [
  {
   "cell_type": "markdown",
   "metadata": {},
   "source": [
    "# Milestone 3: Exploratory data analysis (EDA)\n"
   ]
  },
  {
   "cell_type": "markdown",
   "metadata": {},
   "source": [
    "## Context\n",
    "Airbnb is an online marketplace for people to rent places to stay. \n",
    "\n",
    "Airbnb has rolled out a new service to help listers set prices. Airbnb makes a percentage commission off of the listings, so they are incentivized to help listers price optimally; that is, at the maximum possible point where they will still close a deal. You are an Airbnb consultant helping with this new pricing service."
   ]
  },
  {
   "cell_type": "markdown",
   "metadata": {},
   "source": [
    "\n",
    "Este proyecto de análisis exploratorio de datos (EDA) se centra en investigar las opiniones y calificaciones de los usuarios en los alojamientos de AirBnB. \n",
    "\n",
    "### Estructura y enfoque del proyecto\n",
    "\n",
    "**1. Recopilación de datos:**\n",
    "\n",
    "Se obtuvieron datos de AirBnB que incluían información sobre las opiniones y calificaciones de los usuarios, así como características de los alojamientos (ubicación, tipo de alojamiento, comodidades, etc.).\n",
    "url: \n",
    "\n",
    "**2. Limpieza y preparación de datos:**\n",
    "\n",
    "A continuación, se identificaron y manejaron datos faltantes (preprocessing and eng), duplicados u otros problemas de calidad de datos.\n",
    "(Convertir y codificar variables según sea necesario)\n",
    "(Explorar la estructura y distribución de los datos para comprender mejor su naturaleza.)\n",
    "\n",
    "**3. Análisis exploratorio:**\n",
    "\n",
    "Explorar la distribución de las calificaciones de los usuarios y las características más comunes de los alojamientos bien valorados.\n",
    "Identificar posibles factores que estén correlacionados con calificaciones positivas, como la ubicación, el tamaño del alojamiento, las comodidades ofrecidas, etc.\n",
    "Visualizar patrones y relaciones entre variables utilizando gráficos y estadísticas descriptivas.\n",
    "\n",
    "\n",
    "**4. Análisis de críticas negativas:**\n",
    "\n",
    "Analizar críticas negativas para identificar patrones comunes y posibles áreas de mejora para los anfitriones.\n",
    "Investigar si ciertas características o aspectos de los alojamientos están asociados con críticas negativas.\n",
    "Identificar temas recurrentes en las críticas negativas, como problemas de limpieza, problemas de comunicación con el anfitrión, ubicación desfavorable, etc.\n",
    "\n",
    "**5. Modelado predictivo (opcional):**\n",
    "Si es relevante y viable, puedes construir modelos predictivos para predecir la probabilidad de recibir una calificación positiva o negativa basada en las características del alojamiento y otros factores relevantes.\n",
    "\n",
    "**6. Comunicación de resultados:**\n",
    "Resumir hallazgos clave en un informe o presentación clara y concisa.\n",
    "Utilizar visualizaciones efectivas para comunicar patrones y relaciones identificados durante el análisis.\n",
    "Ofrecer recomendaciones para los anfitriones de AirBnB basadas en los hallazgos del análisis.\n",
    "\n",
    "**7. Reflexión y próximos pasos:**\n",
    "Reflexionar sobre los desafíos encontrados durante el proyecto y posibles áreas de mejora.\n",
    "Identificar posibles extensiones del proyecto o investigaciones futuras que podrían abordarse para profundizar en el tema.\n",
    "Este enfoque te permitirá explorar en profundidad las opiniones y calificaciones de los usuarios en los alojamientos de AirBnB, identificar factores clave asociados con calificaciones positivas y comprender mejor los patrones comunes en las críticas negativas. ¡Espero que encuentres útiles estos pasos para tu proyecto!"
   ]
  },
  {
   "cell_type": "markdown",
   "metadata": {},
   "source": []
  }
 ],
 "metadata": {
  "kernelspec": {
   "display_name": "base",
   "language": "python",
   "name": "python3"
  },
  "language_info": {
   "codemirror_mode": {
    "name": "ipython",
    "version": 3
   },
   "file_extension": ".py",
   "mimetype": "text/x-python",
   "name": "python",
   "nbconvert_exporter": "python",
   "pygments_lexer": "ipython3",
   "version": "3.11.5"
  }
 },
 "nbformat": 4,
 "nbformat_minor": 2
}
